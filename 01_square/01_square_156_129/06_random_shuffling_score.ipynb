{
 "cells": [
  {
   "cell_type": "code",
   "execution_count": null,
   "metadata": {},
   "outputs": [],
   "source": [
    "! which python"
   ]
  },
  {
   "cell_type": "code",
   "execution_count": null,
   "metadata": {},
   "outputs": [],
   "source": [
    "import numpy as np\n",
    "\n",
    "import scores\n",
    "\n",
    "from polygon import get_polygon\n",
    "\n",
    "from tqdm import tqdm\n",
    "\n",
    "import os\n",
    "\n",
    "import warnings\n",
    "warnings.filterwarnings('ignore')"
   ]
  },
  {
   "cell_type": "code",
   "execution_count": null,
   "metadata": {},
   "outputs": [],
   "source": [
    "\"\"\" \n",
    "\n",
    "    where am i?\n",
    "\n",
    "\"\"\"\n",
    "\n",
    "PATH = os.getcwd()\n",
    "data_path = PATH.replace( '01_square_156', '' ) + 'data/01_square/01_square_1000000_156_129'\n",
    "\n",
    "print( f'PATH: { PATH }' )\n",
    "print( f'data_path: { data_path }' )"
   ]
  },
  {
   "cell_type": "code",
   "execution_count": null,
   "metadata": {},
   "outputs": [],
   "source": [
    "\"\"\" \n",
    "\n",
    "    load data\n",
    "\n",
    "\"\"\"\n",
    "\n",
    "ratemap_smooth_15_random  = np.load( data_path + 'grid_scores/ratemap_ss_random.npy' )\n",
    "ratemap_smooth_15_random = ratemap_smooth_15_random.reshape( (100, 512, 32, 32) )\n",
    "\n",
    "print( f'ratemap_ss_random: { ratemap_smooth_15_random.shape }' )"
   ]
  },
  {
   "cell_type": "code",
   "execution_count": null,
   "metadata": {},
   "outputs": [],
   "source": [
    "\"\"\" \n",
    "\n",
    "    grid score\n",
    "\n",
    "\"\"\"\n",
    "\n",
    "save = True \n",
    "\n",
    "polygon_ = get_polygon( 'square', area=0.70**2, factor=1 )\n",
    "\n",
    "# coord range\n",
    "min_x, min_y, max_x, max_y = polygon_.bounds\n",
    "coord_range = ( (min_x, max_x), (min_y, max_y) )\n",
    "\n",
    "print('------------- computing maximum mask -------------')\n",
    "\n",
    "starts = [0.2] * 10\n",
    "ends = np.linspace(0.4, 1.0, num=10)\n",
    "masks_parameters = zip(starts, ends.tolist())\n",
    "\n",
    "res_ = 32\n",
    "latest_epoch_scorer = scores.GridScorer( res_, coord_range, masks_parameters )\n",
    "\n",
    "for i, r in tqdm(enumerate(ratemap_smooth_15_random), total=ratemap_smooth_15_random.shape[0]):\n",
    "\n",
    "    score_60, score_90, max_60_mask, max_90_mask, sac = zip( * [ latest_epoch_scorer.get_scores(rate_map, algorithm='sac') for rate_map in r ] )\n",
    "\n",
    "    if save:\n",
    "\n",
    "        # save scores\n",
    "        np.save( data_path + f'grid_scores/sac_random/max/score_60_{i}.npy', score_60 )\n",
    "        np.save( data_path + f'grid_scores/sac_random/max/score_90_{i}.npy', score_90 )\n",
    "        #np.save( data_path + f'grid_scores/sac_random/max/max_60_mask_{i}.npy', max_60_mask )\n",
    "        #np.save( data_path + f'grid_scores/sac_random/max/max_90_mask_{i}.npy', max_90_mask )  \n",
    "        #np.save( data_path + f'grid_scores/sac_random/max/sac_{i}.npy', sac )"
   ]
  },
  {
   "cell_type": "code",
   "execution_count": null,
   "metadata": {},
   "outputs": [],
   "source": []
  }
 ],
 "metadata": {
  "kernelspec": {
   "display_name": "grid38",
   "language": "python",
   "name": "python3"
  },
  "language_info": {
   "codemirror_mode": {
    "name": "ipython",
    "version": 3
   },
   "file_extension": ".py",
   "mimetype": "text/x-python",
   "name": "python",
   "nbconvert_exporter": "python",
   "pygments_lexer": "ipython3",
   "version": "3.8.16"
  }
 },
 "nbformat": 4,
 "nbformat_minor": 2
}
