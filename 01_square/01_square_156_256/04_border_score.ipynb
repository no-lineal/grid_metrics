{
 "cells": [
  {
   "cell_type": "code",
   "execution_count": 1,
   "metadata": {},
   "outputs": [
    {
     "name": "stdout",
     "output_type": "stream",
     "text": [
      "/Users/no_lineal/opt/anaconda3/envs/grid38/bin/python\n"
     ]
    }
   ],
   "source": [
    "! which python"
   ]
  },
  {
   "cell_type": "code",
   "execution_count": 2,
   "metadata": {},
   "outputs": [],
   "source": [
    "import numpy as np\n",
    "from scipy import ndimage\n",
    "\n",
    "from polygon import get_polygon\n",
    "\n",
    "from tqdm import tqdm\n",
    "\n",
    "import os\n",
    "\n",
    "# viz\n",
    "import matplotlib.pyplot as plt\n",
    "import seaborn as sns\n",
    "sns.set(style=\"darkgrid\")"
   ]
  },
  {
   "cell_type": "code",
   "execution_count": 3,
   "metadata": {},
   "outputs": [
    {
     "name": "stdout",
     "output_type": "stream",
     "text": [
      "PATH: /Users/no_lineal/Documents/draft_code/grid_metrics/01_square_156_256\n",
      "data_path: /Users/no_lineal/Documents/draft_code/grid_metrics/data/01_square/01_square_1000000_156_256/\n"
     ]
    }
   ],
   "source": [
    "\"\"\" \n",
    "\n",
    "    where am i?\n",
    "\n",
    "\"\"\"\n",
    "\n",
    "PATH = os.getcwd()\n",
    "data_path = PATH.replace( '01_square_156_256', '' ) + 'data/01_square/01_square_1000000_156_256/'\n",
    "\n",
    "print( f'PATH: { PATH }' )\n",
    "print( f'data_path: { data_path }' )"
   ]
  },
  {
   "cell_type": "code",
   "execution_count": 4,
   "metadata": {},
   "outputs": [
    {
     "name": "stdout",
     "output_type": "stream",
     "text": [
      "\n",
      "ratemap_mat: (512, 32, 32)\n",
      "\n",
      "sac_max_mat: (512, 63, 63)\n",
      "\n"
     ]
    }
   ],
   "source": [
    "\"\"\" \n",
    "\n",
    "    load correlation matrix\n",
    "\n",
    "\"\"\"\n",
    "\n",
    "ratemap_mat = np.load( data_path + 'grid_scores/ratemap.npy' )\n",
    "\n",
    "sac_max_mat = np.load( data_path + 'grid_scores/sac/max/sac.npy' )\n",
    "\n",
    "print('')\n",
    "print( f'ratemap_mat: { ratemap_mat.shape }' )\n",
    "print('')\n",
    "print( f'sac_max_mat: { sac_max_mat.shape }' )\n",
    "print('')"
   ]
  },
  {
   "cell_type": "code",
   "execution_count": 5,
   "metadata": {},
   "outputs": [
    {
     "name": "stderr",
     "output_type": "stream",
     "text": [
      "  0%|          | 0/512 [00:00<?, ?it/s]/var/folders/g5/_2g0311j2w93w086_s60pvtc0000gn/T/ipykernel_91649/2176915400.py:12: DeprecationWarning: Please use `label` from the `scipy.ndimage` namespace, the `scipy.ndimage.measurements` namespace is deprecated.\n",
      "  rm_comps, ncomps = ndimage.measurements.label( rm_th )\n",
      "/var/folders/g5/_2g0311j2w93w086_s60pvtc0000gn/T/ipykernel_91649/2176915400.py:56: RuntimeWarning: Mean of empty slice\n",
      "  dm = np.nanmean(dms) / (width/2)\n",
      "100%|██████████| 512/512 [00:00<00:00, 3214.34it/s]"
     ]
    },
    {
     "name": "stdout",
     "output_type": "stream",
     "text": [
      "\n",
      "border_scores_mat: (512,)\n",
      "border score nan: 1\n",
      "cms_mat: (512,)\n",
      "dms_mat: (512,)\n",
      "\n"
     ]
    },
    {
     "name": "stderr",
     "output_type": "stream",
     "text": [
      "\n"
     ]
    }
   ],
   "source": [
    "\"\"\" \n",
    "\n",
    "    border score\n",
    "\n",
    "\"\"\"\n",
    "\n",
    "def border_score( ratemap, res, width ):\n",
    "\n",
    "    pix_area = ((100**2)*(width**2))/(res**2) # ??\n",
    "\n",
    "    rm_th = ratemap > np.nanmax( ratemap * 0.3 )\n",
    "    rm_comps, ncomps = ndimage.measurements.label( rm_th )\n",
    "\n",
    "    # keep fields with area > 200 cm^2\n",
    "    masks = []\n",
    "    nfields = 0\n",
    "    for i in range(1, ncomps+1):\n",
    "\n",
    "        mask = ( rm_comps == i ).reshape( res, res )\n",
    "\n",
    "        if mask.sum()*pix_area > 141:\n",
    "            \n",
    "            masks.append( mask )\n",
    "            nfields += 1\n",
    "\n",
    "    # get max coverage\n",
    "    cm_max = 0\n",
    "    for mask in masks:\n",
    "\n",
    "        mask = masks[0]\n",
    "        n_cov = mask[0].mean()\n",
    "        s_cov = mask[-1].mean()\n",
    "        e_cov = mask[:,0].mean()\n",
    "        w_cov = mask[:,-1].mean()\n",
    "        cm = np.max([n_cov,s_cov,e_cov,w_cov])\n",
    "\n",
    "        if cm>cm_max:\n",
    "            cm_max = cm\n",
    "\n",
    "    # distanc e to nearest wall\n",
    "    x,y = np.mgrid[:res,:res] + 1\n",
    "    x = x.ravel()\n",
    "    y = y.ravel()\n",
    "    xmin = np.min(np.vstack([x,res+1-x]),0)\n",
    "    ymin = np.min(np.vstack([y,res+1-y]),0)\n",
    "    dweight = np.min(np.vstack([xmin,ymin]),0).reshape(res,res)\n",
    "    dweight = dweight*width/res\n",
    "\n",
    "    # mean firing distances\n",
    "    dms = []\n",
    "    for mask in masks:\n",
    "        field = ratemap[mask]\n",
    "        field /= field.sum()   # normalize\n",
    "        dm = (field*dweight[mask]).sum()\n",
    "        dms.append(dm)\n",
    "    dm = np.nanmean(dms) / (width/2)\n",
    "    border_score = (cm_max-dm)/(cm_max+dm)\n",
    "\n",
    "    return border_score, cm_max, dm\n",
    "\n",
    "polygon_ = get_polygon( 'square', area=1.56**2, factor=1 )\n",
    "\n",
    "# coord range\n",
    "min_x, min_y, max_x, max_y = polygon_.bounds\n",
    "coord_range = ( (min_x, max_x), (min_y, max_y) )\n",
    "\n",
    "width = max_x - min_x\n",
    "\n",
    "res = 32\n",
    "\n",
    "border_scores_mat = []\n",
    "cms_mat = []\n",
    "dms_mat = []\n",
    "\n",
    "for i in tqdm( range( ratemap_mat.shape[0] ) ):\n",
    "\n",
    "    ratemap = ratemap_mat[i]\n",
    "    bscore, cm_max, dm = border_score( ratemap, res, width )\n",
    "\n",
    "    border_scores_mat.append( bscore )\n",
    "    cms_mat.append( cm_max )\n",
    "    dms_mat.append( dm )\n",
    "\n",
    "border_scores_mat = np.array( border_scores_mat )\n",
    "cms_mat = np.array( cms_mat )\n",
    "dms_mat = np.array( dms_mat )\n",
    "\n",
    "print('')\n",
    "print( f'border_scores_mat: { border_scores_mat.shape }' )\n",
    "print( f'border score nan: { np.isnan(border_scores_mat).sum() }' )\n",
    "print( f'cms_mat: { cms_mat.shape }' )\n",
    "print( f'dms_mat: { dms_mat.shape }' )\n",
    "print('')\n",
    "\n",
    "save = True\n",
    "\n",
    "if save:\n",
    "\n",
    "    #np.save( data_path + 'grid_scores/sac/max/border.npy', sac_max_border_mat )\n",
    "    np.save( data_path + 'grid_scores/border.npy', border_scores_mat )"
   ]
  },
  {
   "cell_type": "code",
   "execution_count": 6,
   "metadata": {},
   "outputs": [
    {
     "data": {
      "image/png": "[encoded data removed]",
      "text/plain": [
       "<Figure size 640x480 with 1 Axes>"
      ]
     },
     "metadata": {},
     "output_type": "display_data"
    }
   ],
   "source": [
    "\"\"\" \n",
    "\n",
    "    viz distribution\n",
    "\n",
    "\"\"\"\n",
    "\n",
    "fig, ax = plt.subplots( 1, 1 )\n",
    "\n",
    "sns.histplot( border_scores_mat, kde=True )\n",
    "ax.set_title( 'border_mat' )\n",
    "\n",
    "plt.show()"
   ]
  },
  {
   "cell_type": "code",
   "execution_count": null,
   "metadata": {},
   "outputs": [],
   "source": []
  }
 ],
 "metadata": {
  "kernelspec": {
   "display_name": "grid38",
   "language": "python",
   "name": "python3"
  },
  "language_info": {
   "codemirror_mode": {
    "name": "ipython",
    "version": 3
   },
   "file_extension": ".py",
   "mimetype": "text/x-python",
   "name": "python",
   "nbconvert_exporter": "python",
   "pygments_lexer": "ipython3",
   "version": "3.8.16"
  }
 },
 "nbformat": 4,
 "nbformat_minor": 2
}
