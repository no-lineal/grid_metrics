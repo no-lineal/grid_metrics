{
 "cells": [
  {
   "cell_type": "code",
   "execution_count": 1,
   "metadata": {},
   "outputs": [
    {
     "name": "stdout",
     "output_type": "stream",
     "text": [
      "/Users/no_lineal/opt/anaconda3/envs/grid38/bin/python\n"
     ]
    }
   ],
   "source": [
    "! which python"
   ]
  },
  {
   "cell_type": "code",
   "execution_count": 2,
   "metadata": {},
   "outputs": [],
   "source": [
    "import numpy as np\n",
    "\n",
    "import scores\n",
    "\n",
    "from polygon import get_polygon\n",
    "\n",
    "from tqdm import tqdm\n",
    "\n",
    "import os\n",
    "\n",
    "import warnings\n",
    "warnings.filterwarnings('ignore')"
   ]
  },
  {
   "cell_type": "code",
   "execution_count": 3,
   "metadata": {},
   "outputs": [
    {
     "name": "stdout",
     "output_type": "stream",
     "text": [
      "PATH: /Users/no_lineal/Documents/draft_code/grid_metrics/01_square_156_256\n",
      "data_path: /Users/no_lineal/Documents/draft_code/grid_metrics/data/01_square/01_square_1000000_156_256/\n"
     ]
    }
   ],
   "source": [
    "\"\"\" \n",
    "\n",
    "    where am i?\n",
    "\n",
    "\"\"\"\n",
    "\n",
    "PATH = os.getcwd()\n",
    "data_path = PATH.replace( '01_square_156_256', '' ) + 'data/01_square/01_square_1000000_156_256/'\n",
    "\n",
    "print( f'PATH: { PATH }' )\n",
    "print( f'data_path: { data_path }' )"
   ]
  },
  {
   "cell_type": "code",
   "execution_count": 4,
   "metadata": {},
   "outputs": [
    {
     "name": "stdout",
     "output_type": "stream",
     "text": [
      "ratemap_ss_random: (100, 512, 32, 32)\n"
     ]
    }
   ],
   "source": [
    "\"\"\" \n",
    "\n",
    "    load data\n",
    "\n",
    "\"\"\"\n",
    "\n",
    "ratemap_smooth_15_random  = np.load( data_path + 'grid_scores/ratemap_ss_random.npy' )\n",
    "ratemap_smooth_15_random = ratemap_smooth_15_random.reshape( (100, 512, 32, 32) )\n",
    "\n",
    "print( f'ratemap_ss_random: { ratemap_smooth_15_random.shape }' )"
   ]
  },
  {
   "cell_type": "code",
   "execution_count": 5,
   "metadata": {},
   "outputs": [
    {
     "name": "stdout",
     "output_type": "stream",
     "text": [
      "------------- computing maximum mask -------------\n"
     ]
    },
    {
     "name": "stderr",
     "output_type": "stream",
     "text": [
      "100%|██████████| 100/100 [48:19<00:00, 28.99s/it]  \n"
     ]
    }
   ],
   "source": [
    "\"\"\" \n",
    "\n",
    "    grid score\n",
    "\n",
    "\"\"\"\n",
    "\n",
    "save = True \n",
    "\n",
    "polygon_ = get_polygon( 'square', area=0.70**2, factor=1 )\n",
    "\n",
    "# coord range\n",
    "min_x, min_y, max_x, max_y = polygon_.bounds\n",
    "coord_range = ( (min_x, max_x), (min_y, max_y) )\n",
    "\n",
    "print('------------- computing maximum mask -------------')\n",
    "\n",
    "starts = [0.2] * 10\n",
    "ends = np.linspace(0.4, 1.0, num=10)\n",
    "masks_parameters = zip(starts, ends.tolist())\n",
    "\n",
    "res_ = 32\n",
    "latest_epoch_scorer = scores.GridScorer( res_, coord_range, masks_parameters )\n",
    "\n",
    "for i, r in tqdm(enumerate(ratemap_smooth_15_random), total=ratemap_smooth_15_random.shape[0]):\n",
    "\n",
    "    score_60, score_90, max_60_mask, max_90_mask, sac = zip( * [ latest_epoch_scorer.get_scores(rate_map, algorithm='sac') for rate_map in r ] )\n",
    "\n",
    "    if save:\n",
    "\n",
    "        # save scores\n",
    "        np.save( data_path + f'grid_scores/sac_random/max/score_60_{i}.npy', score_60 )\n",
    "        np.save( data_path + f'grid_scores/sac_random/max/score_90_{i}.npy', score_90 )\n",
    "        #np.save( data_path + f'grid_scores/sac_random/max/max_60_mask_{i}.npy', max_60_mask )\n",
    "        #np.save( data_path + f'grid_scores/sac_random/max/max_90_mask_{i}.npy', max_90_mask )  \n",
    "        #np.save( data_path + f'grid_scores/sac_random/max/sac_{i}.npy', sac )"
   ]
  },
  {
   "cell_type": "code",
   "execution_count": null,
   "metadata": {},
   "outputs": [],
   "source": []
  }
 ],
 "metadata": {
  "kernelspec": {
   "display_name": "grid38",
   "language": "python",
   "name": "python3"
  },
  "language_info": {
   "codemirror_mode": {
    "name": "ipython",
    "version": 3
   },
   "file_extension": ".py",
   "mimetype": "text/x-python",
   "name": "python",
   "nbconvert_exporter": "python",
   "pygments_lexer": "ipython3",
   "version": "3.8.16"
  }
 },
 "nbformat": 4,
 "nbformat_minor": 2
}
